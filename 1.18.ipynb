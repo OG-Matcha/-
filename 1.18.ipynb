{
 "cells": [
  {
   "attachments": {},
   "cell_type": "markdown",
   "metadata": {},
   "source": [
    "# [8-3] 阿能寫作文II"
   ]
  },
  {
   "attachments": {},
   "cell_type": "markdown",
   "metadata": {},
   "source": [
    "### Method 1 -> This is yours"
   ]
  },
  {
   "cell_type": "code",
   "execution_count": 1,
   "metadata": {},
   "outputs": [
    {
     "name": "stdout",
     "output_type": "stream",
     "text": [
      "3\n"
     ]
    }
   ],
   "source": [
    "# ## 問題1 為什麼第二個ab會被跳過\n",
    "\n",
    "# 假設輸入\n",
    "# as ,    ab ab sd cj\n",
    "\n",
    "wrong_word = input()\n",
    "sentence = input().lower().split()\n",
    "count = 0\n",
    "for i in sentence:\n",
    "    for j in wrong_word:\n",
    "        if j in i:\n",
    "            count += 1\n",
    "            break\n",
    "print(len(sentence) - count)"
   ]
  },
  {
   "attachments": {},
   "cell_type": "markdown",
   "metadata": {},
   "source": [
    "### Method 1 -> corrected (I prefer this way)"
   ]
  },
  {
   "cell_type": "code",
   "execution_count": null,
   "metadata": {},
   "outputs": [],
   "source": [
    "wrong_word = input()\n",
    "sentence = input().lower().split()\n",
    "length = len(sentence)\n",
    "for i in sentence:\n",
    "    for j in wrong_word:\n",
    "        if j in i:\n",
    "            length -= 1\n",
    "            break\n",
    "print(length)"
   ]
  },
  {
   "attachments": {},
   "cell_type": "markdown",
   "metadata": {},
   "source": [
    "### Method 2 -> This is yours"
   ]
  },
  {
   "cell_type": "code",
   "execution_count": null,
   "metadata": {},
   "outputs": [],
   "source": [
    "wrong_word = input()\n",
    "sentence = input().lower().split()\n",
    "for i in wrong_word:\n",
    "    for j in sentence:\n",
    "        if i in j:\n",
    "            sentence.remove(j)\n",
    "print(len(sentence))"
   ]
  },
  {
   "attachments": {},
   "cell_type": "markdown",
   "metadata": {},
   "source": [
    "### Method 2 -> corrected (not recommended)"
   ]
  },
  {
   "cell_type": "code",
   "execution_count": null,
   "metadata": {},
   "outputs": [],
   "source": [
    "wrong_word = input()\n",
    "sentence = input().lower().split()\n",
    "for i in wrong_word:\n",
    "    j = 0\n",
    "    while j < len(sentence):\n",
    "        if i in sentence[j]:\n",
    "            sentence.remove(sentence[j])\n",
    "        else:\n",
    "            j += 1\n",
    "print(len(sentence))"
   ]
  },
  {
   "attachments": {},
   "cell_type": "markdown",
   "metadata": {},
   "source": [
    "### Method 3 -> another way to implement this with all()"
   ]
  },
  {
   "cell_type": "code",
   "execution_count": 11,
   "metadata": {},
   "outputs": [
    {
     "name": "stdout",
     "output_type": "stream",
     "text": [
      "0\n"
     ]
    }
   ],
   "source": [
    "wrong_word = set(input()) # convert to set for faster lookup\n",
    "sentence = input().lower().split()\n",
    "count = 0\n",
    "# as,   ab ab cd sj\n",
    "for word in sentence:\n",
    "    if all([letter not in wrong_word for letter in word]): # List comprehension: ab -> [False, True]\n",
    "        count += 1\n",
    "\n",
    "print(count)\n",
    "\n",
    "# res = []\n",
    "# for letter in word:\n",
    "#     res.append(letter not in wrong_word)\n",
    "# all(res)"
   ]
  },
  {
   "attachments": {},
   "cell_type": "markdown",
   "metadata": {},
   "source": [
    "#### Why we use set for iterating\n",
    "Iterating through a set is faster than other built-in structures in Python because sets are implemented using hash tables, which allow for constant time lookups. \n",
    "\n",
    "This means that when iterating through a set, the time complexity is O(1), which is much faster than other structures such as lists or dictionaries which have a time complexity of O(n)."
   ]
  },
  {
   "attachments": {},
   "cell_type": "markdown",
   "metadata": {},
   "source": [
    "#### All()\n",
    "The all() function in Python returns True if all elements of the iterable are true (or if the iterable is empty). \n",
    "\n",
    "It returns False if any element of the iterable is false. \n",
    "\n",
    "If the iterable object is empty, the all() function also returns True. \n",
    "\n",
    "The syntax of all() is: <font color=\"red\">all(iterable)</font>\n",
    "\n",
    "Where iterable is an iterable object (list, tuple, dictionary etc.)."
   ]
  },
  {
   "attachments": {},
   "cell_type": "markdown",
   "metadata": {},
   "source": [
    "# [8-3] 單調遞增轉換"
   ]
  },
  {
   "attachments": {},
   "cell_type": "markdown",
   "metadata": {},
   "source": [
    "### Method 1 -> This is yours"
   ]
  },
  {
   "cell_type": "code",
   "execution_count": 13,
   "metadata": {},
   "outputs": [
    {
     "name": "stdout",
     "output_type": "stream",
     "text": [
      "[1, 2, 2, 3, 3]\n"
     ]
    }
   ],
   "source": [
    "# ## 問題2 顯示wrong ans\n",
    "\n",
    "num = [int(i) for i in input().split(\" \")]\n",
    "for i in num:\n",
    "    if num.count(i) > 1:\n",
    "        num.remove(i)\n",
    "num.sort()  # It's already an increasing list, you don't need to sort it again\n",
    "print(num)"
   ]
  },
  {
   "attachments": {},
   "cell_type": "markdown",
   "metadata": {},
   "source": [
    "### Method 1 -> corrected (not recommended)"
   ]
  },
  {
   "cell_type": "code",
   "execution_count": null,
   "metadata": {},
   "outputs": [],
   "source": [
    "num = [int(i) for i in input().split(\" \")]\n",
    "i = 0\n",
    "while i < len(num):\n",
    "    if num.count(num[i]) > 1:\n",
    "        num.remove(num[i])\n",
    "    else:\n",
    "        i += 1\n",
    "print(num)"
   ]
  },
  {
   "attachments": {},
   "cell_type": "markdown",
   "metadata": {},
   "source": [
    "### Method 2 -> My method to solve this (You should know the concept about list and set)"
   ]
  },
  {
   "cell_type": "code",
   "execution_count": 5,
   "metadata": {},
   "outputs": [
    {
     "name": "stdout",
     "output_type": "stream",
     "text": [
      "[1, 2, 3, 4, 5, 6]\n"
     ]
    }
   ],
   "source": [
    "num = sorted(map(int, set(input().split())))\n",
    "print(num)"
   ]
  },
  {
   "attachments": {},
   "cell_type": "markdown",
   "metadata": {},
   "source": [
    "### Method 2 -> step-by-step breakdown"
   ]
  },
  {
   "cell_type": "code",
   "execution_count": 14,
   "metadata": {},
   "outputs": [
    {
     "name": "stdout",
     "output_type": "stream",
     "text": [
      "<map object at 0x0000018A4932CBE0>\n",
      "[1, 2, 3]\n"
     ]
    }
   ],
   "source": [
    "num = input().split() # Take input as list which contains numbers in string type\n",
    "num = set(num) # we convert the string into a set in order to remove duplicates\n",
    "num = map(int, num) # use map function to convert the elements in the list into integer type\n",
    "num = list(num)\n",
    "num = sorted(num) # sort the elements to let it be increasing ordered\n",
    "print(num)\n",
    "\n",
    "num = list(map(int, input().split())) # 1 2 3 4 5 6 7 8 9 10 11 -> [1, 2, 3, 4, 5, 6, 7, 8, 9, 10, 11]"
   ]
  },
  {
   "attachments": {},
   "cell_type": "markdown",
   "metadata": {},
   "source": [
    "#### Map()\n",
    "The map() function in Python is used to apply a function to every item in an iterable (such as a list, tuple, set, dictionary, etc.). \n",
    "\n",
    "It takes two parameters: the first is the function that is to be applied and the second is the iterable. \n",
    "\n",
    "The map() function returns an iterator that produces the results of applying the function to each item of the iterable."
   ]
  },
  {
   "attachments": {},
   "cell_type": "markdown",
   "metadata": {},
   "source": [
    "#### Compare of List and Set"
   ]
  },
  {
   "attachments": {},
   "cell_type": "markdown",
   "metadata": {},
   "source": [
    "##### List:\n",
    "* A list is an ordered collection of elements that can contain duplicate values. \n",
    "\n",
    "* It is mutable, meaning it can be changed.\n",
    "\n",
    "* Lists are created using square brackets and can contain any type of data, including other lists.\n",
    "\n",
    "##### Set:\n",
    "* A set is an unordered collection of elements that cannot contain duplicate values. \n",
    "\n",
    "* It is also mutable, meaning it can be changed. \n",
    "\n",
    "* Sets are created using curly braces and can only contain immutable data types such as numbers, strings, and tuples."
   ]
  },
  {
   "attachments": {},
   "cell_type": "markdown",
   "metadata": {},
   "source": [
    "# [10-1] 最大平方數"
   ]
  },
  {
   "attachments": {},
   "cell_type": "markdown",
   "metadata": {},
   "source": [
    "### Method 1 -> This is yours (I don't think it has problem, the question's description is bad)"
   ]
  },
  {
   "cell_type": "code",
   "execution_count": 16,
   "metadata": {},
   "outputs": [
    {
     "data": {
      "text/plain": [
       "484"
      ]
     },
     "execution_count": 16,
     "metadata": {},
     "output_type": "execute_result"
    }
   ],
   "source": [
    "# ## 問題 3 顯示wrong ans\n",
    "\n",
    "def square_check(x):\n",
    "    Square_root = x ** 0.5 // 1\n",
    "    if Square_root ** 2 != x:\n",
    "        return int(Square_root ** 2)\n",
    "    elif Square_root ** 2 == x:\n",
    "        return int(((x ** 0.5) - 1) ** 2)\n",
    "\n",
    "num = int(float(input())) # The question has statement that you don't need to handle the input() part, and if the input is floating point, this will raise ValueError\n",
    "square_check(num)"
   ]
  },
  {
   "attachments": {},
   "cell_type": "markdown",
   "metadata": {},
   "source": [
    "#### Int()\n",
    "The int() function in Python is used to convert a value to an integer. \n",
    "\n",
    "It will raise a ValueError if the value passed is not a valid integer. \n",
    "\n",
    "A string type floating number, such as \"1.0\", is not a valid integer and thus will raise a ValueError when passed to int()."
   ]
  },
  {
   "attachments": {},
   "cell_type": "markdown",
   "metadata": {},
   "source": [
    "### Method 2 -> I try to figure out the problem and here is the method (ignore floating point)"
   ]
  },
  {
   "cell_type": "code",
   "execution_count": 17,
   "metadata": {},
   "outputs": [
    {
     "name": "stdout",
     "output_type": "stream",
     "text": [
      "None\n"
     ]
    }
   ],
   "source": [
    "def square_check(num):\n",
    "    if num <= 1 or not isinstance(num, int): # I guess we should avoid 1 and floating point\n",
    "        return # return None\n",
    "\n",
    "    root = int(num ** 0.5) # the root is just the number take square root, and use int() to remove the decimal part\n",
    "\n",
    "    if root ** 2 == num: \n",
    "        return (root - 1) ** 2 # if the number is the square of the root, we minus the root by 1 and square it\n",
    "    else:\n",
    "        return root ** 2 # otherwise, we just return the square of the root\n",
    "    \n",
    "print(square_check(49)) # for testing\n",
    "    "
   ]
  },
  {
   "attachments": {},
   "cell_type": "markdown",
   "metadata": {},
   "source": [
    "#### Isinstance()\n",
    "isinstance() is a built-in function in Python that checks if an object is an instance of a specified class. \n",
    "\n",
    "It takes two parameters: the object to be checked and the class it should be an instance of. \n",
    "\n",
    "If the object is an instance of the specified class, then isinstance() will return True, otherwise it will return False."
   ]
  },
  {
   "attachments": {},
   "cell_type": "markdown",
   "metadata": {},
   "source": [
    "### Method 2 -> I try to figure out the problem and here is the method (accept floating point)"
   ]
  },
  {
   "cell_type": "code",
   "execution_count": 19,
   "metadata": {},
   "outputs": [
    {
     "name": "stdout",
     "output_type": "stream",
     "text": [
      "36\n"
     ]
    }
   ],
   "source": [
    "def square_check(num):\n",
    "    if num <= 1: # Just remove the check of integers\n",
    "        return\n",
    "\n",
    "    root = int(num ** 0.5)\n",
    "\n",
    "    if root ** 2 == num: \n",
    "        return (root - 1) ** 2\n",
    "    else:\n",
    "        return root ** 2\n",
    "    \n",
    "print(square_check(49))\n",
    "    "
   ]
  },
  {
   "attachments": {},
   "cell_type": "markdown",
   "metadata": {},
   "source": [
    "# [10-1] 請維持社交距離"
   ]
  },
  {
   "attachments": {},
   "cell_type": "markdown",
   "metadata": {},
   "source": [
    "### Method 1 -> This is yours"
   ]
  },
  {
   "cell_type": "code",
   "execution_count": 22,
   "metadata": {},
   "outputs": [
    {
     "name": "stdout",
     "output_type": "stream",
     "text": [
      "請維持社交距離\n"
     ]
    }
   ],
   "source": [
    "# ## 問題 4 顯示wrong ans\n",
    "\n",
    "def social_distance(x, y):\n",
    "    if x == \"室內\" and y < 100:\n",
    "        print(\"請維持社交距離\")\n",
    "    elif x == \"室外\" and y < 150:\n",
    "        print(\"請維持社交距離\")\n",
    "    else:\n",
    "        print(\"\")\n",
    "    \n",
    "    # return None\n",
    "\n",
    "\n",
    "x = input() # same as above, you don't need to handle the input() part\n",
    "y = input()\n",
    "print(social_distance(x, int(y)))"
   ]
  },
  {
   "attachments": {},
   "cell_type": "markdown",
   "metadata": {},
   "source": [
    "### Method 1 -> corrected"
   ]
  },
  {
   "cell_type": "code",
   "execution_count": 21,
   "metadata": {},
   "outputs": [
    {
     "name": "stdout",
     "output_type": "stream",
     "text": [
      "請維持社交距離\n"
     ]
    }
   ],
   "source": [
    "def social_distance(place, distance):\n",
    "    if place == \"室內\" and distance < 100:\n",
    "        return \"請維持社交距離\" # you should use return instead of print() because the question statement \"回傳\"\n",
    "    elif place == \"室外\" and distance < 150:\n",
    "        return \"請維持社交距離\"\n",
    "    else:\n",
    "        return\n",
    "\n",
    "\n",
    "x = input() # same as above, you don't need to handle the input() part\n",
    "y = input()\n",
    "print(social_distance(x, int(y)))"
   ]
  },
  {
   "attachments": {},
   "cell_type": "markdown",
   "metadata": {},
   "source": [
    "# [9-1] 移動平均"
   ]
  },
  {
   "attachments": {},
   "cell_type": "markdown",
   "metadata": {},
   "source": [
    "### Method 1 -> This is yours"
   ]
  },
  {
   "cell_type": "code",
   "execution_count": 13,
   "metadata": {},
   "outputs": [
    {
     "data": {
      "text/plain": [
       "[8.0, 7.0, 6.0, 5.0, 4.0, 3.0]"
      ]
     },
     "execution_count": 13,
     "metadata": {},
     "output_type": "execute_result"
    }
   ],
   "source": [
    "# ## 問題6\n",
    "\n",
    "num = int(input())\n",
    "lst = eval(input())\n",
    "summation = 0\n",
    "null_lst = []\n",
    "for i in range(len(lst)):\n",
    "    summation += sum(lst[i:num]) # you didn't minus the value out of range, and the range is wrong\n",
    "    ans = summation / num\n",
    "    null_lst.append(ans)\n",
    "    if i + num == (len(lst)):\n",
    "        break\n",
    "null_lst"
   ]
  },
  {
   "attachments": {},
   "cell_type": "markdown",
   "metadata": {},
   "source": [
    "### Method 1 -> corrected"
   ]
  },
  {
   "cell_type": "code",
   "execution_count": 14,
   "metadata": {},
   "outputs": [
    {
     "name": "stdout",
     "output_type": "stream",
     "text": [
      "[8.0, 7.0, 6.0, 5.0, 4.0, 3.0]\n"
     ]
    }
   ],
   "source": [
    "num = int(input())\n",
    "lst = eval(input())\n",
    "\n",
    "if num == 0: # remember to check if the number will lead to ZeroDivisionError\n",
    "    print([])\n",
    "else:\n",
    "    res = []\n",
    "\n",
    "    for i in range(len(lst) - num + 1): # In this way, the range won't raise index error\n",
    "        res.append(sum(lst[i:i + num]) / num)\n",
    "\n",
    "    # using list comprehension\n",
    "    # res = [sum(lst[i:i + num]) for i in range(len(lst) - num + 1)]\n",
    "    print(res)\n"
   ]
  },
  {
   "attachments": {},
   "cell_type": "markdown",
   "metadata": {},
   "source": [
    "# [8-綜合] 嚴格遞增數列"
   ]
  },
  {
   "attachments": {},
   "cell_type": "markdown",
   "metadata": {},
   "source": [
    "### Method 1 -> This is yours"
   ]
  },
  {
   "cell_type": "code",
   "execution_count": null,
   "metadata": {},
   "outputs": [],
   "source": [
    "# ## 問題7 顯示wrong ans\n",
    "\n",
    "num = [int(i) for i in input().split(\" \")]\n",
    "num_sort = sorted(num)\n",
    "if num == num_sort:\n",
    "    print(True)\n",
    "else:\n",
    "    print(False)"
   ]
  },
  {
   "attachments": {},
   "cell_type": "markdown",
   "metadata": {},
   "source": [
    "### Method 1 -> corrected"
   ]
  },
  {
   "cell_type": "code",
   "execution_count": 30,
   "metadata": {},
   "outputs": [
    {
     "name": "stdout",
     "output_type": "stream",
     "text": [
      "True\n"
     ]
    }
   ],
   "source": [
    "num = list(map(int, input().split()))\n",
    "if num != sorted(num) or len(num) != len(set(num)): # You forget to check if duplicates exist\n",
    "    print(False)\n",
    "else:\n",
    "    print(True)"
   ]
  }
 ],
 "metadata": {
  "kernelspec": {
   "display_name": "Python 3",
   "language": "python",
   "name": "python3"
  },
  "language_info": {
   "codemirror_mode": {
    "name": "ipython",
    "version": 3
   },
   "file_extension": ".py",
   "mimetype": "text/x-python",
   "name": "python",
   "nbconvert_exporter": "python",
   "pygments_lexer": "ipython3",
   "version": "3.10.9"
  },
  "orig_nbformat": 4,
  "vscode": {
   "interpreter": {
    "hash": "a14ca5d9f1cf6885da42dcd6a4819af4f4cf462c2c9da5f97b2d7b2fd7ff06f0"
   }
  }
 },
 "nbformat": 4,
 "nbformat_minor": 2
}
