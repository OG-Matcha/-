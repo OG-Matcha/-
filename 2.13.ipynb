{
 "cells": [
  {
   "attachments": {},
   "cell_type": "markdown",
   "metadata": {},
   "source": [
    "# Week 4"
   ]
  },
  {
   "attachments": {},
   "cell_type": "markdown",
   "metadata": {},
   "source": [
    "## 強強買東西"
   ]
  },
  {
   "attachments": {},
   "cell_type": "markdown",
   "metadata": {},
   "source": [
    "### 題目解答思路\n",
    "\n",
    "這邊的重點在敘述和sample，在看了sample之後就要知道需要用字典和sort。\n",
    "<hr>\n",
    "在Description中說了只需要<font color=\"red\">最便宜</font>的<font color=\"red\">3</font>樣東西，如果不滿3樣就<font color=\"red\">排序</font>後輸出。\n",
    "<hr>\n",
    "在Input中說了共有<font color=\"red\">n + 1</font>行，其中有 n 行是想買的東西，最後一行<font color=\"red\">end</font>代表結束，而名稱和價錢以<font color=\"red\">逗號</font>分離。\n",
    "<hr>\n",
    "而Output則是將物品及價格以<font color=\"red\">空格</font>分隔並由便宜到昂貴輸出。"
   ]
  },
  {
   "attachments": {},
   "cell_type": "markdown",
   "metadata": {},
   "source": [
    "### Method 1 -> this is yours"
   ]
  },
  {
   "cell_type": "code",
   "execution_count": null,
   "metadata": {},
   "outputs": [],
   "source": [
    "\n",
    "# 處理input的資料(將資料轉換為list['商品名稱',價格])\n",
    "\n",
    "dic={}                                                                      #\n",
    "i=0                                                                         #\n",
    "shop_list=input().replace(',', '\\n').replace(' ', '\\n').split('\\n')         # 這邊一樣沒有使用迴圈來接收輸入，這樣只會有一行，\n",
    "while i+1 < len(shop_list):  # 避免 index out of range                      # 而且沒有考慮到 end 的情況\n",
    "    dic[shop_list[i]]=int(shop_list[i+1])                                   # 然後....我不太懂這邊在做甚麼\n",
    "    i += 2                                                                  #\n",
    "dic                                                                         \n",
    "sorted_tuple=sorted(dic.items(), key = lambda x: x[1])                      #\n",
    "if len(sorted_tuple) <= 3:                                                  # 這邊的方法應該是沒問題的，\n",
    "    sorted_dic= dict(sorted_tuple)                                          # 我把上面的改一下就可以。\n",
    "else:                                                                       #\n",
    "    sorted_dic= dict(sorted_tuple[0:3])                                     #\n",
    "for key, value in sorted_dic.items():                                       #\n",
    "    print(key, value)                                                       #"
   ]
  },
  {
   "attachments": {},
   "cell_type": "markdown",
   "metadata": {},
   "source": [
    "### Method 2 -> Basic way (I corrected yours)"
   ]
  },
  {
   "cell_type": "code",
   "execution_count": null,
   "metadata": {},
   "outputs": [],
   "source": [
    "data = dict()                                                               # 我只是習慣用這種方法宣告字典，沒有差\n",
    "\n",
    "# set = {,} // set = set()\n",
    "merchandise = input().split(\",\")                                            # 這邊直接做 split() 將商品和價錢分開\n",
    "# [\"end\"]\n",
    "while merchandise[0] != \"end\":                                              # 因為已經做了 split()，所以 merchandise 是一個串列，假如第一個元素不是 end 就代表還要繼續輸入。\n",
    "    data[merchandise[0]] = merchandise[1]                                   # 以商品名稱作為鍵值 (key)，價錢作為值 (value) 來加入字典，\n",
    "    merchandise = input().split(\",\")                                        # 重新接收輸入來判斷是否需要結束迴圈\n",
    "\n",
    "data = sorted(data.items(), key = lambda x: int(x[1]))                      # 這邊比較需要注意的是後面的 int(x[1])，\n",
    "                                                                            # 因為價格本身接收進來是字串，所以這邊以轉型成 integer 後的大小來做排序。\n",
    "# data = [(\"aaa\", 100), (\"bbb\", 100)]\n",
    "\n",
    "if len(data) <= 3:\n",
    "    data = dict(data)                                                 \n",
    "else: \n",
    "    data = dict(data[0:3])        \n",
    "                                                                  \n",
    "for key, value in data.items():                                    \n",
    "    print(key, value)                                                   "
   ]
  },
  {
   "attachments": {},
   "cell_type": "markdown",
   "metadata": {},
   "source": [
    "### Split() return a list"
   ]
  },
  {
   "cell_type": "code",
   "execution_count": null,
   "metadata": {},
   "outputs": [],
   "source": [
    "# 為什麼沒有加入split時，是可以依照遇到end時就自動結束迴圈\n",
    "lst = []\n",
    "while True:\n",
    "        lst.append(input()))  # lst = [\"aaa,100\", \"bbb,50\", \"end\"]\n",
    "        if 'end' in lst:\n",
    "            break\n",
    "lst\n",
    "\n",
    "# 但加了split()卻不行\n",
    "lst=[]\n",
    "while True:\n",
    "        # lst = [[\"aaa\", 100], [\"bbb\", 50], [\"end\"]] ['']\n",
    "        lst.append(input().split(','))\n",
    "        if 'end' in lst:\n",
    "            break\n",
    "lst"
   ]
  },
  {
   "attachments": {},
   "cell_type": "markdown",
   "metadata": {},
   "source": [
    "### Method 3 -> Advanced way (Just take it for fun)"
   ]
  },
  {
   "cell_type": "code",
   "execution_count": null,
   "metadata": {},
   "outputs": [],
   "source": [
    "data = dict()\n",
    "\n",
    "while (merchandise := input().split(\",\"))[0] != \"end\":                      # 這邊使用 := (walrus operator) 來簡化程式，只是讓程式比較簡潔，你以後知道這是甚麼東西就好，\n",
    "    data[merchandise[0]] = merchandise[1]                                   # 不會用沒有甚麼影響。\n",
    "\n",
    "data = dict(sorted(data.items(), key = lambda x: int(x[1])))\n",
    "\n",
    "if len(data) <= 3:\n",
    "    data = dict(data)                                                 \n",
    "else: \n",
    "    data = dict(data[0:3])        \n",
    "                                                                  \n",
    "for key, value in data.items():                                    \n",
    "    print(key, value)                 "
   ]
  },
  {
   "attachments": {},
   "cell_type": "markdown",
   "metadata": {},
   "source": [
    "## 詞頻計算"
   ]
  },
  {
   "attachments": {},
   "cell_type": "markdown",
   "metadata": {},
   "source": [
    "### 題目解答思路\n",
    "\n",
    "這題非常直白，使用<font color=\"red\">迴圈</font>接收輸入，用<font color=\"red\">字典</font>儲存並輸出。\n",
    "<hr>\n",
    "在Description描述情境而已。\n",
    "<hr>\n",
    "在Input中說了共有<font color=\"red\">n + 1</font>行，其中第<font color=\"red\">1</font>行代表句子數，而後面有<font color=\"red\">n</font>行句子包含以空格分隔的詞彙。\n",
    "<hr>\n",
    "而Output就是將字典輸出。"
   ]
  },
  {
   "attachments": {},
   "cell_type": "markdown",
   "metadata": {},
   "source": [
    "### Method 1 -> this is yours"
   ]
  },
  {
   "cell_type": "code",
   "execution_count": null,
   "metadata": {},
   "outputs": [],
   "source": [
    "# 甚麼時候使用數字，甚麼時候直接取用字串或lst中的內容 (這個我們當面講清楚，我不太懂意思)\n",
    "\n",
    "n= int(input())\n",
    "sentences= []                                                       # 這個方法是可行的，但中間繞了太多層，\n",
    "d= {}                                                               # 我們沒有必要另外設 sentence 來裝單字串列，又用迴圈跑一次，\n",
    "for i in range(n):                                                  # 直接加入字典裏面即可。\n",
    "    sentences.append(input().split())\n",
    "for i in sentences:\n",
    "    for word in i:\n",
    "        if word not in d:  # dic可使用in判斷\n",
    "            d[word]= 1\n",
    "        else:\n",
    "            d[word] = d[word]+1  # 值自己加一\n",
    "d"
   ]
  },
  {
   "attachments": {},
   "cell_type": "markdown",
   "metadata": {},
   "source": [
    "### Method 2 -> Basic way (I simplified yours)"
   ]
  },
  {
   "cell_type": "code",
   "execution_count": null,
   "metadata": {},
   "outputs": [],
   "source": [
    "num = int(input())\n",
    "data = dict()\n",
    "\n",
    "for i in range(n):                  #\n",
    "    sentence = input().split()      # 在每個迴圈內接收一行後直接用迴圈去抓每個單字，\n",
    "                                    # 將他們分別加到字典內部，\n",
    "    for word in sentence:           #\n",
    "        if word not in data:        # 如果字典裡沒有這個詞彙，就創建新的鍵值對 (key-value pair)，\n",
    "            data[word] = 1          # 如果是出現過的詞彙，就將值加 1\n",
    "        else:                       # \n",
    "            data[word] += 1         #\n",
    "    \n",
    "print(data)"
   ]
  },
  {
   "attachments": {},
   "cell_type": "markdown",
   "metadata": {},
   "source": [
    "# Week 5"
   ]
  },
  {
   "attachments": {},
   "cell_type": "markdown",
   "metadata": {},
   "source": [
    "## 字串字典"
   ]
  },
  {
   "attachments": {},
   "cell_type": "markdown",
   "metadata": {},
   "source": [
    "### 題目解答思路\n",
    "\n",
    "這邊的話重點在題目的敘述中\n",
    "<hr>\n",
    "在Descirption中說明輸入只會有<font color=\"red\">1</font>行字串，而你需要將裡面每個字元都加入字典並計算數量，大小寫視為<font color=\"red\">相同</font>且<font color=\"red\">忽略</font>除字母外的符號數字。\n",
    "<hr>\n",
    "重點在於依照<font color=\"red\">字母順序</font>輸出字串中每個不同字元的出現次數，並以空格分隔。"
   ]
  },
  {
   "attachments": {},
   "cell_type": "markdown",
   "metadata": {},
   "source": [
    "### Method 1 -> this is yours"
   ]
  },
  {
   "cell_type": "code",
   "execution_count": null,
   "metadata": {},
   "outputs": [],
   "source": [
    "# not in 的部分出錯\n",
    "\n",
    "import string\n",
    "word=input()   \n",
    "dic={}\n",
    "i=0\n",
    "while i < len(word):\n",
    "    if word[i] not in string.ascii_uppercase or not in string.ascii_lowercase: # 這邊你應該寫成 word[i] not in string.ascii_uppercase or word[i] not in string.ascii_lowercase\n",
    "        i += 1\n",
    "        continue                                                               # continue 後面放程式是沒有用處的，因為他不會被執行到\n",
    "    dic[word[i]]=word.count(word[i]) # apple -> dic = {a:1, p:2} O(n^2)\n",
    "    i+=1  \n",
    "# O(1) < O(n) < O(nlogn) < O(n^2) < O(2^n) # Big-oh\n",
    "dic=dict(sorted(dic.items(),key= lambda x:x[0])) # nlogn                       # 在 python 3.7 之後，這邊可以直接用 sorted() 他就會按照 key 來排序\n",
    "for x,y in dic.items():\n",
    "    print(x,y,sep='',end=' ')"
   ]
  },
  {
   "attachments": {},
   "cell_type": "markdown",
   "metadata": {},
   "source": [
    "### Method 2 -> Basic way (I corrected yours)"
   ]
  },
  {
   "cell_type": "code",
   "execution_count": null,
   "metadata": {},
   "outputs": [],
   "source": [
    "word = input()\n",
    "data = dict()\n",
    "\n",
    "for char in word:                       #\n",
    "    if not char.isalpha():              # 我們直接用 range-based for loop 去抓每個字元，不需要用 while loop，\n",
    "        continue                        # 這邊其實不需要用 string module， Python 的 string 內建有許多判斷的 method，\n",
    "    else:                               # 像是 isalpha() 就能判斷字元或字串是否皆為字母\n",
    "        if char.lower() not in data:    # 而使用 lower() 可以將字元或字串轉換成小寫並傳回\n",
    "            data[char.lower()] = 1      # 這邊就可以很簡單的做出判斷。\n",
    "        else:\n",
    "            data[char.lower()] += 1\n",
    "\n",
    "data = dict(sorted(data.items()))       # 現在如果以字典的鍵 (key) 為基準做排序可以直接 sorted()，不需要另外用 key 來傳入 function\n",
    "\n",
    "for key, value in data.items():\n",
    "    print(key, value, sep=\"\", end=\" \")"
   ]
  },
  {
   "attachments": {},
   "cell_type": "markdown",
   "metadata": {},
   "source": [
    "## 小明發便當"
   ]
  },
  {
   "attachments": {},
   "cell_type": "markdown",
   "metadata": {},
   "source": [
    "### 題目解答思路\n",
    "\n",
    "這邊的話重點在於從長篇的敘述中找到重點。\n",
    "<hr>\n",
    "在Descirption中說明輸入一個學生只能拿<font color=\"red\">一個便當</font>，而便當必須按照順序由上到下拿取，這也代表說假如喜歡最上方便當口味的人已經都拿過了，\n",
    "\n",
    "那麼剩下的人就都拿不到便當，因此和學生排隊的順序並沒有關係，而便當的數量和學生也不一定相同，所以要考慮<font color=\"red\">便當拿光</font>的情況。\n",
    "<hr>\n",
    "在Input說明有<font color=\"red\">3</font>行輸入，第1行代表便當口味由上到下的排序，2 和 3 行分別代表喜歡口味 A 以及 B 的人數。\n",
    "<hr>\n",
    "而Output必須是整數，為拿不到喜歡便當口味的學生數量。"
   ]
  },
  {
   "attachments": {},
   "cell_type": "markdown",
   "metadata": {},
   "source": [
    "### Method 1 -> this is yours"
   ]
  },
  {
   "cell_type": "code",
   "execution_count": 41,
   "metadata": {},
   "outputs": [
    {
     "name": "stdout",
     "output_type": "stream",
     "text": [
      "10\n"
     ]
    }
   ],
   "source": [
    "# wrong ans\n",
    "\n",
    "lst=[i for i in input()]  \n",
    "num_a=int(input())        \n",
    "num_b=int(input())        \n",
    "pop_a=[]\n",
    "pop_b=[]\n",
    "lst.reverse() \n",
    "for i in range(len(lst)-1,-1,-1):               \n",
    "    if lst[i]=='A':                             \n",
    "        pop_a.append(lst.pop(-1))\n",
    "        if num_a==len(pop_a):\n",
    "            break                                   # 這邊你直接 break 可能就會忽略掉下一個也可以拿便當的學生\n",
    "    elif lst[i]=='B':                               # 舉例來說，假如輸入是: ABBBBABB, 3, 4\n",
    "        pop_b.append(lst.pop(-1))                   # 本來應該只剩 1 個人沒有便當，但因為你在 4 個喜歡 B 口味的人都拿完後就 break掉迴圈\n",
    "        if num_b==len(pop_b):                       # 於是剩下的 A 沒辦法被學生拿到就結束了拿便當的迴圈。\n",
    "            break\n",
    "print(int(num_a+num_b-(len(pop_a)+len(pop_b))))"
   ]
  },
  {
   "attachments": {},
   "cell_type": "markdown",
   "metadata": {},
   "source": [
    "### Method 2 -> Basic way (I corrected yours)"
   ]
  },
  {
   "cell_type": "code",
   "execution_count": 42,
   "metadata": {},
   "outputs": [
    {
     "name": "stdout",
     "output_type": "stream",
     "text": [
      "10\n"
     ]
    }
   ],
   "source": [
    "lst=[i for i in input()]  \n",
    "num_a=int(input())        \n",
    "num_b=int(input())        \n",
    "pop_a=[]\n",
    "pop_b=[]\n",
    "lst.reverse() \n",
    "for i in range(len(lst)-1,-1,-1):               \n",
    "    if lst[i]=='A':                             \n",
    "        if num_a==len(pop_a):\n",
    "            break                                   \n",
    "        pop_a.append(lst.pop(-1))                   # 這邊換一下位置，先做判斷再做加入的動作，\n",
    "    elif lst[i]=='B':                               # 就不會有先打破迴圈的問題了。\n",
    "        if num_b==len(pop_b):                       \n",
    "            break                                   \n",
    "        pop_b.append(lst.pop(-1))                   \n",
    "print(int(num_a+num_b-(len(pop_a)+len(pop_b))))"
   ]
  },
  {
   "attachments": {},
   "cell_type": "markdown",
   "metadata": {},
   "source": [
    "### Method 3 -> Advanced way (I will solve it like this)"
   ]
  },
  {
   "cell_type": "code",
   "execution_count": null,
   "metadata": {},
   "outputs": [],
   "source": [
    "lunches = list(input())      # 這邊使用 list() 直接將 string 每個字元轉換成 list 中的元素，一樣的結果。\n",
    "student_a = int(input())    \n",
    "student_b = int(input())\n",
    "\n",
    "for lunch in lunches:        # 使用 for loop，這樣就不用使用 pop()，\n",
    "    if lunch == \"A\":\n",
    "        if not student_a:    # 這邊一樣先做判斷，看學生人數是否為 0\n",
    "            break            # 這樣就可以避免多扣的問題\n",
    "        student_a -= 1\n",
    "    elif lunch == \"B\":\n",
    "        if not student_b:\n",
    "            break\n",
    "        student_b -= 1\n",
    "\n",
    "print(student_a + student_b) # 剩下的學生數就是沒拿到便當的\n",
    "\n",
    "# 我覺得你被題目的敘述及 hint 誤導了，他並沒有那麼複雜。"
   ]
  },
  {
   "attachments": {},
   "cell_type": "markdown",
   "metadata": {},
   "source": [
    "### Pop()"
   ]
  },
  {
   "attachments": {},
   "cell_type": "markdown",
   "metadata": {},
   "source": [
    "在 Python 中，使用列表（list）作為數據結構時，pop(0) 將需要移動整個列表中的每個元素以確保列表的整體結構，而 pop(-1) 則不需要。\n",
    "<hr>\n",
    "舉個例子，假設有一個列表 [1, 2, 3, 4, 5]：\n",
    "<hr>\n",
    "pop(0) 的操作：\n",
    "每次調用 pop(0) 都將對整個列表進行遍歷，因此需要將列表中的每個元素往前移動一個位置。\n",
    "\n",
    "例如，第一次調用 pop(0) 後，列表變為 [2, 3, 4, 5]；第二次調用 pop(0) 後，列表變為 [3, 4, 5]，以此類推。\n",
    "<hr>\n",
    "pop(-1) 的操作：\n",
    "調用 pop(-1) 只需要刪除列表中的最後一個元素，因此不需要移動其他任何元素，直接操作即可。\n",
    "\n",
    "例如，第一次調用 pop(-1) 後，列表變為 [1, 2, 3, 4]；第二次調用 pop(-1) 後，列表變為 [1, 2, 3]，以此類推。\n",
    "<hr>\n",
    "因此，pop(-1) 的操作速度比 pop(0) 快，因為它不需要移動其他元素。\n",
    "\n",
    "從時間複雜度來看，pop(0) 是 O(n)，其中 n 代表列表的元素數量，而 pop(-1) 是 O(1)，因為他只需要取出最後的元素。"
   ]
  }
 ],
 "metadata": {
  "kernelspec": {
   "display_name": "Python 3",
   "language": "python",
   "name": "python3"
  },
  "language_info": {
   "codemirror_mode": {
    "name": "ipython",
    "version": 3
   },
   "file_extension": ".py",
   "mimetype": "text/x-python",
   "name": "python",
   "nbconvert_exporter": "python",
   "pygments_lexer": "ipython3",
   "version": "3.10.9"
  },
  "orig_nbformat": 4,
  "vscode": {
   "interpreter": {
    "hash": "a14ca5d9f1cf6885da42dcd6a4819af4f4cf462c2c9da5f97b2d7b2fd7ff06f0"
   }
  }
 },
 "nbformat": 4,
 "nbformat_minor": 2
}
