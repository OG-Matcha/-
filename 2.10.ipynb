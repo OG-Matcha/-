{
 "cells": [
  {
   "cell_type": "markdown",
   "metadata": {},
   "source": [
    "# Week 1 & Hw 1"
   ]
  },
  {
   "cell_type": "markdown",
   "metadata": {},
   "source": [
    "## 合併串列"
   ]
  },
  {
   "cell_type": "markdown",
   "metadata": {},
   "source": [
    "### 題目解答思路\n",
    "\n",
    "我們在開始做任何題目前最重要的是看好<font color=\"red\">題目敘述、輸入及輸出格式</font>，很多新手會疏忽掉隱藏在題目中的細節而出錯。\n",
    "<hr>\n",
    "在Description中很明顯的指明了題目會分別給我們<font color=\"red\">兩行</font>以<font color=\"red\">空格</font>隔開的數字串列，這邊有一個重點是<font color=\"red\">依照數字大小排序的</font>，\n",
    "\n",
    "意思就是說他給的串列是已經排序好的(<font color=\"red\">sorted</font>)，而我們要做的就是合併他們並<font color=\"red\">按照數字大小</font>的方式排序。\n",
    "\n",
    "(在英文中比較常在題目中見到的通常會寫 <font color=\"red\">in ascending order</font> 或是 <font color=\"red\">in increasing order</font> 以及 <font color=\"red\">from lowest value to highest value</font>)\n",
    "<hr>\n",
    "而在Input中比較值得注意的是 <font color=\"red\">(n, m >= 0)</font> 這個範圍，所以這時候我們就必須要有一個設想，就是會有輸入為<font color=\"red\">空</font>的情況發生。\n",
    "\n",
    "至於Output的部分就是簡單的讓我們print出結果，沒什麼特別的。\n"
   ]
  },
  {
   "cell_type": "markdown",
   "metadata": {},
   "source": [
    "### Method 1 -> this is yours"
   ]
  },
  {
   "cell_type": "code",
   "execution_count": null,
   "metadata": {},
   "outputs": [
    {
     "name": "stdout",
     "output_type": "stream",
     "text": [
      "['']\n"
     ]
    }
   ],
   "source": [
    "# 呈現wrong ans\n",
    "\n",
    "num=input().split(' ')              # 我們這邊應該有兩行要輸入，所以這邊少取一行，一次的 input() 只會看一行。\n",
    "print(num)\n",
    "j=0                                 #\n",
    "while j <len(num):                  # 這一部分有點意義不明，你想要把空字串刪除掉，\n",
    "    if num[j] == '':                # 但嚴格來說如果你輸入的全為數字， split() 的結果是不會有空字串的問題發生，\n",
    "        num.remove(num[j])          # 所以你這個迴圈其實不會對串列做出甚麼改變，畢竟 if 的條件無法成立，\n",
    "    else:                           # 最後就是 j 持續增加，最後 iterate 一遍串列而已。\n",
    "        j+=1                        #\n",
    "\n",
    "num.sort()                          #\n",
    "num_sort=[int(i) for i in num]      # 看來這邊你有注意到使用 input() 接收的元素會是 string 型態，\n",
    "for i in range(0,len(num)):         # 這個方法是可行的，不過我建議你迴圈的部分可以改這樣:\n",
    "    print(num_sort[i],end=' ')      # for value in num:\n",
    "                                    #     print(value, end=' ')\n",
    "                                    #\n",
    "\n",
    "# list = [1, 2, 3, 4] -> [2, 2, 3, 4]\n",
    "# list_1 = [1,2,3] -> list_1[0] = 3 -> [3, 2, 3]\n",
    "\n",
    "# tuple swap\n",
    "for i in range(len(list)):\n",
    "    list[i], list[i+1] = list[i+1], list[i]\n",
    "\n",
    "\n",
    "# 當然，你這邊的解法只接收一行串列，所以是行不通的。"
   ]
  },
  {
   "cell_type": "code",
   "execution_count": null,
   "metadata": {},
   "outputs": [],
   "source": [
    "# 無法成功將空格remove\n",
    "\n",
    "lst_1=input().split(' ') # 看起來你有注意到需要接收兩行輸入，\n",
    "lst_2=input().split(' ') # 你的問題在於對 split() 的回傳結果不熟悉。\n",
    "lst_1.extend(lst_2)      # 使用 extend 是很棒的選擇，他比我們使用 + 來連接串列更有效率。\n",
    "for i in lst_1:          #\n",
    "    if i == ' ':         # 這邊我猜測你應該是認為 split() 的回傳值會包含你的 separator。\n",
    "        lst_1.remove(i)  #\n",
    "lst_1                    # \n"
   ]
  },
  {
   "cell_type": "markdown",
   "metadata": {},
   "source": [
    "### Split()"
   ]
  },
  {
   "cell_type": "code",
   "execution_count": null,
   "metadata": {},
   "outputs": [
    {
     "name": "stdout",
     "output_type": "stream",
     "text": [
      "['apple', 'banana', 'burger', 'tea']\n",
      "['apple,banana,burger,tea']\n",
      "['apple banana burger tea']\n",
      "['apple', 'banana', 'burger', 'tea']\n",
      "['apple', 'banana', 'burger', 'tea']\n"
     ]
    },
    {
     "ename": "ValueError",
     "evalue": "empty separator",
     "output_type": "error",
     "traceback": [
      "\u001b[1;31m---------------------------------------------------------------------------\u001b[0m\n",
      "\u001b[1;31mValueError\u001b[0m                                Traceback (most recent call last)\n",
      "Cell \u001b[1;32mIn[7], line 19\u001b[0m\n",
      "\u001b[0;32m     16\u001b[0m new_word_list \u001b[39m=\u001b[39m words\u001b[39m.\u001b[39msplit(\u001b[39m\"\u001b[39m\u001b[39m \u001b[39m\u001b[39m\"\u001b[39m)    \u001b[39m# 這兩行的作用和結果是相同的。 \u001b[39;00m\n",
      "\u001b[0;32m     17\u001b[0m \u001b[39mprint\u001b[39m(new_word_list)                \u001b[39m#\u001b[39;00m\n",
      "\u001b[1;32m---> 19\u001b[0m new_word_list \u001b[39m=\u001b[39m words\u001b[39m.\u001b[39;49msplit(\u001b[39m\"\u001b[39;49m\u001b[39m\"\u001b[39;49m)     \u001b[39m# 但是你不能將 sep 指定為空的字串，會產生 ValueError。\u001b[39;00m\n",
      "\n",
      "\u001b[1;31mValueError\u001b[0m: empty separator"
     ]
    }
   ],
   "source": [
    "words = \"apple,banana,burger,tea\"   # 宣告一個字串，裡面包含單字使用逗號分隔\n",
    "\n",
    "new_word_list = words.split(\",\")    # 第一個觀念是 split() 會回傳一個包含分割好的元素的串列，也就是 list。\n",
    "print(new_word_list)                # 在這邊其實你可以看到串列的元素是不包含我們的分隔符號，只會有切好的單字。\n",
    "\n",
    "new_word_list = words.split()       # 假如我不指定 separator，他預設就會是空白，但在 words 中，你會發現我並沒有放入空白\n",
    "print(new_word_list)                # 所以結果只會有一個元素，就是沒有切割過的 words\n",
    "\n",
    "words = \"apple banana burger tea\"   # 假如我用空格分隔\n",
    "\n",
    "new_word_list = words.split(\",\")    # 這時候我如果用逗號當 separator，他也不會做切割，因為 words 中並不含有逗號。\n",
    "print(new_word_list)                # 所以結果還是裝著一個元素的串列。\n",
    "\n",
    "new_word_list = words.split()       # 這個時候我 split() 裡面沒有放參數給他， sep 預設就會是空格\n",
    "print(new_word_list)                #\n",
    "new_word_list = words.split(\" \")    # 這兩行的作用和結果是相同的。 \n",
    "print(new_word_list)                #\n",
    "\n",
    "new_word_list = words.split(\"\")     # 但是你不能將 sep 指定為空的字串，會產生 ValueError。\n"
   ]
  },
  {
   "cell_type": "markdown",
   "metadata": {},
   "source": [
    "### Method 2 -> Basic way (not efficient)"
   ]
  },
  {
   "cell_type": "code",
   "execution_count": null,
   "metadata": {},
   "outputs": [
    {
     "name": "stdout",
     "output_type": "stream",
     "text": [
      "1 2 3 4 5 6 7 8 "
     ]
    }
   ],
   "source": [
    "list_1 = input().split()        # 一樣接收兩行串列\n",
    "list_2 = input().split()\n",
    "\n",
    "list_1.extend(list_2)           # 直接將兩個串列接在一起\n",
    "\n",
    "list_1.sort()                   # 重新排序 # O(nlogn) 差\n",
    "\n",
    "for value in list_1:            # 使用 range-based for loop 將內部元素轉型成 integer 再 print 出來。\n",
    "    print(int(value), end=\" \")  \n",
    "\n",
    "# 這種方法看起來寫的很簡單，但效率非常差，已經排序好的串列又重新再 sort 一次，如果要考慮到時間效率極不推薦。\n",
    "# 但相對來說邏輯淺顯易懂，如果有能力應該要會下面的方法。"
   ]
  },
  {
   "cell_type": "markdown",
   "metadata": {},
   "source": [
    "### Method 3 -> Efficient way (I will use this method to solve the problem)"
   ]
  },
  {
   "cell_type": "code",
   "execution_count": null,
   "metadata": {},
   "outputs": [],
   "source": [
    "# 前提: sorted array\n",
    "\n",
    "list_1 = input().split()                                # 和上個方法一樣，接收兩行串列\n",
    "list_2 = input().split()\n",
    "\n",
    "result = []                                             # 這邊我們會用新的串列來裝結果\n",
    "\n",
    "while len(list_1) > 0 and list_2:                       #\n",
    "    if list_1[0] < list_2[0]:                           # 這邊的方法是拿兩個串列最前方的元素去比大小，\n",
    "        result.append(list_1.pop(0))                    # 將比較小的元素取出該串列並加入新串列，如此持續迴圈，\n",
    "    else:                                               # 最後所有元素都會被取出，而迴圈條件的原理是假如其中一個串列已經被取空了，\n",
    "        result.append(list_2.pop(0))                    # 就代表說剩下的串列只要直接接在新串列後方就可以了，因為輸入的串列是以排序好的。\n",
    "                                                        #\n",
    "\n",
    "result.extend(list_1 if list_1 else list_2)             # 判斷哪一個串列未被取空，將其加入到新串列的尾端，可以看註解的分解方法，這邊使用了三元運算。\n",
    "\n",
    "\"\"\"\n",
    "if list_1:                                              #\n",
    "    result.extend(list_1)                               # 以查看串列內是否有元素來判斷哪個串列是被取空的。\n",
    "else:                                                   #\n",
    "    result.extend(list_2)                               #\n",
    "\"\"\"\n",
    "\n",
    "for value in result:                                    # 同樣使用 range-based for loop 將內部元素轉型成 integer 再 print 出來。\n",
    "    print(int(value), end=\" \") "
   ]
  },
  {
   "attachments": {},
   "cell_type": "markdown",
   "metadata": {},
   "source": [
    "### Type Conversion"
   ]
  },
  {
   "cell_type": "code",
   "execution_count": null,
   "metadata": {},
   "outputs": [],
   "source": [
    "# Type casting = converting one datatype into another (type-conversion)\n",
    "\n",
    "# Implicit Type Conversion\n",
    "    # bool ---> int ---> float\n",
    "    # small ------------ large\n",
    "\n",
    "num1 = True + 35\n",
    "print(num1)\n",
    "num2 = 35 + 11.0\n",
    "print(num2)\n",
    "\n",
    "# Explicit Type Conversion\n",
    "    # int()\n",
    "    # float()\n",
    "    # str()\n",
    "    # bool()\n",
    "\n",
    "num3 = 23 + int(\"73\")\n",
    "print(num3)\n",
    "num4 = 1 + int(9.28) # 1 + 9\n",
    "print(num4)\n",
    "num5 = bool(5)\n",
    "num6 = bool(0)\n",
    "print(num5)\n",
    "print(num6)\n",
    "\n",
    "print(bool(10))\n",
    "print(bool(0))\n",
    "print(bool(0.0))\n",
    "print(bool(\"A stirng\"))\n",
    "print(bool(\"\"))\n",
    "print(10 + \"day\")"
   ]
  },
  {
   "cell_type": "markdown",
   "metadata": {},
   "source": [
    "### Method 4 -> Advanced way (good but not faster than method 2, you can just take it for fun)"
   ]
  },
  {
   "cell_type": "code",
   "execution_count": null,
   "metadata": {},
   "outputs": [
    {
     "name": "stdout",
     "output_type": "stream",
     "text": [
      "1 2 3 4 5 6 7 8 "
     ]
    }
   ],
   "source": [
    "list_1 = list(map(int, input().split()))                     # 直接先轉型\n",
    "list_2 = list(map(int, input().split()))\n",
    "\n",
    "result = []                                                  # 同樣使用新串列 (你可以把使用到的空間和時間比例想為定值，犧牲空間換時間是常見的作法)\n",
    "\n",
    "list_1_idx = 0                                               # 這邊使用兩個數字來同時去跑兩個串列 (使用 two pointer 這個技巧)\n",
    "list_2_idx = 0\n",
    "\n",
    "list_1_size = len(list_1)                                    # 沒什麼特別，將串列長度另外宣告變數。\n",
    "list_2_size = len(list_2)                                    #\n",
    "\n",
    "while list_1_idx < list_1_size and list_2_idx < list_2_size: #\n",
    "    if list_1[list_1_idx] < list_2[list_2_idx]:              # 同時去比較兩個串列內，尚未被加入新串列最前方的元素，將較小者加入新串列，\n",
    "        result.append(list_1[list_1_idx])                    # 但並不從原串列中刪除掉元素。\n",
    "        list_1_idx += 1                                      #\n",
    "    else:                                                    # 和上方的方法有些相似，但並不作出取出的動作，而是使用 index 增加\n",
    "        result.append(list_2[list_2_idx])                    # 來移動到下一個元素。\n",
    "        list_2_idx += 1                                      #\n",
    "\n",
    "result.extend(list_1[list_1_idx:] + list_2[list_2_idx:])     # 這個方法的時間就輸在要切割原串列在重新加入，但上方使用兩個指標來同時跑兩個串列\n",
    "                                                             # 的方法可以學起來。\n",
    "\n",
    "for value in result:                                         # 同樣使用 range-based for loop 將內部元素 print 出來。\n",
    "    print(value, end=\" \") "
   ]
  },
  {
   "cell_type": "markdown",
   "metadata": {},
   "source": [
    "## 凱凱玩switch"
   ]
  },
  {
   "cell_type": "markdown",
   "metadata": {},
   "source": [
    "### 題目解答思路\n",
    "\n",
    "這邊比較重要的是去看到輸入的<font color=\"red\">格式及範圍</font>，通常他們會影響到我們設計程式條件。\n",
    "<hr>\n",
    "這一題的Description其實並沒有什麼重要訊息，就只是單純去描述一個題目的情境，我們可以很快的掃過一遍就跳過他，因為他並不會給我們提供一些有用的資訊。\n",
    "<hr>\n",
    "比較特別是在Input中，你看他寫了很多的東西，首先是輸入有<font color=\"red\">d+1</font>行，如果你這個時候沒有去看下面的敘述，你會覺得有點困惑那個，\n",
    "\n",
    "接下來我們來看下一行，他說了第一行輸入為一個正整數<font color=\"red\">m</font>，代表著月份，而該月份會有<font color=\"red\">d</font>天，這個時候你就知道上一行，他講那個<font color=\"red\">d</font>是什麼意思，\n",
    "\n",
    "這邊比較特別的是他指出我們不用考慮閏年，<font color=\"red\">2月就當作是28天</font>，必須要注意。\n",
    "\n",
    "假如我今天輸入的數字是1，這個1就代表說是1月，而1月共有31天，那就代表說我們的<font color=\"red\">d = 31</font>，而輸入總共就會有<font color=\"red\">32</font>行，\n",
    "\n",
    "第一行是我們的輸入的月份，接下來該月份有幾天就會有幾行輸入，所以會有<font color=\"red\">1 + 31 = 32</font>行，基本上我們會用<font color=\"red\">迴圈</font>處理數量大的輸入。\n",
    "\n",
    "接下來是說我們之後的每一行輸入會是一個遊戲的名稱和遊玩的時間，使用逗號分開，那這個遊戲的時間格式呢，就是比較重要，\n",
    "\n",
    "以HH:MM:DD代表<font color=\"red\">小時:分鐘:秒</font>，這個時候我覺得可以使用split()或是單純index去分割他們，至於計算的部分就是基本數學。\n",
    "\n",
    "那輸出的部分我會使用<font color=\"red\">format(字串格式化)</font>的方式。\n"
   ]
  },
  {
   "cell_type": "markdown",
   "metadata": {},
   "source": [
    "### Method 1 -> this is yours"
   ]
  },
  {
   "cell_type": "code",
   "execution_count": null,
   "metadata": {},
   "outputs": [],
   "source": [
    "# 不知如何處理題目敘述之input，需要分行輸入嗎? & 輸出時間會呈現54:7:48無法呈現54:07:48\n",
    "\n",
    "# 由於你的方法少了很多關鍵的部分，所以我會用你同樣的思路直接重寫正確的\n",
    "\n",
    "\n",
    "game_time=input().split(',')                                    #\n",
    "time=[]                                                         # 這一部分只能接收一行輸入，而且你忽略了第一行輸入月份，\n",
    "game_name=[]                                                    # 因為改正的意義不大，所以這邊我會直接打掉重練。\n",
    "for i in range(1,len(game_time)):                               #\n",
    "    time.append(game_time[i][0:8])                              #\n",
    "for j in range(0,len(game_time)-1):                             #\n",
    "    if j == 0:                                                  #\n",
    "        game_name.append(game_time[0])                          #\n",
    "    else:                                                       #\n",
    "        game_name.append(game_time[j][9:])                      #\n",
    "len(set(game_name))                                             #\n",
    "second=0\n",
    "minute=0\n",
    "hour=0\n",
    "for i in range(0,len(time)):                                    #\n",
    "    second+=int(time[i][6:])                                    # 這邊用index可能會出現問題，HH的範圍是 0 <= HH <= 100，代表說輸入有可能長 100:45:33，\n",
    "    minute+=int(time[i][3:5])                                   # 如果這時你 second 的 index 使用 time[i][6:] 會得到 :33，就會出錯，建議使用 split()。\n",
    "    hour+=int(time[i][0:2])                                     #\n",
    "\n",
    "second_final=second%60\n",
    "minute_final=(minute+second//60)%60\n",
    "hour_final=(minute+second//60)//60+hour\n",
    "print(len(set(game_name)),str(hour_final)+':'+str(minute_final)+':'+str(second_final),sep='\\n') # 這邊建議將兩個結果用兩行 print 比較好看，輸出問題可以使用 format 解決。\n"
   ]
  },
  {
   "cell_type": "markdown",
   "metadata": {},
   "source": [
    "### Method 2 -> Basic way (I corrected yours)"
   ]
  },
  {
   "cell_type": "code",
   "execution_count": null,
   "metadata": {},
   "outputs": [
    {
     "name": "stdout",
     "output_type": "stream",
     "text": [
      "1\n",
      "54:07:48\n"
     ]
    }
   ],
   "source": [
    "months_days = {1:31, 2:28, 3:31, 4:30, 5:31, 6:30, 7:31, 8:31, 9:30, 10:31, 11:30, 12:31} # 這邊使用字典來記錄月份及其相對應的日期，如果這邊沒學到字典也可以用 if 代替。\n",
    "\n",
    "month = int(input())                 # 這邊先接收第一行的輸入判斷輸入會有多少行，轉型成整數是因為上方字典裡的 key 使用的是 integer 型態，不轉型會對不上。\n",
    "days = months_days[month]            # 找出該月份對應的日期\n",
    "\n",
    "names = []                           # 先宣告要用到的串列\n",
    "times = []                           #\n",
    "\n",
    "for i in range(days):                #\n",
    "    game_time = input().split(\",\")   # 這邊確認有 d + 1 行輸入後就讓會迴圈跑 d 次，將輸入用 split() 分開後，假設輸入是: 原神,02:11:10\n",
    "    names.append(game_time[0])       # 那麼 game_time 就會長這樣: [\"原神\", \"02:11:10\"]，一個包含兩個元素的串列，分別代表名稱和時間。\n",
    "    times.append(game_time[1])       # 我們再分別將這兩個元素加到他們對應的串列裡面\n",
    "\n",
    "hour = 0\n",
    "minute = 0\n",
    "second = 0\n",
    "\n",
    "for time in times:                   #   \n",
    "    hour_min_sec = time.split(\":\")   # 這邊就用 range-based for loop 直接以 : 為 separator 分割時間，\n",
    "    hour += int(hour_min_sec[0])     # 假如輸入為 54:07:11， hour_min_sec 會是 [\"54\", \"07\", \"11\"]，\n",
    "    minute += int(hour_min_sec[1])   # 所以在加到 hour, minute, second 時選擇相對應的 index 並轉型加入。\n",
    "    second += int(hour_min_sec[2])   #\n",
    "\n",
    "hour_final = (minute + second // 60) // 60 + hour\n",
    "minute_final = (minute + second // 60) % 60\n",
    "second_final = second % 60\n",
    "\n",
    "print(len(set(names)))\n",
    "print(f\"{hour_final:02d}:{minute_final:02d}:{second_final:02d}\") # 這邊使用 format 的方式 第一個 0 代表空格要填上 0，2代表至少要占兩格空間， d 代表整數\n"
   ]
  },
  {
   "cell_type": "markdown",
   "metadata": {},
   "source": [
    "### Method 3 -> Advanced way (I will solve the problem like this)"
   ]
  },
  {
   "cell_type": "code",
   "execution_count": null,
   "metadata": {},
   "outputs": [
    {
     "name": "stdout",
     "output_type": "stream",
     "text": [
      "1\n",
      "02:11:34\n"
     ]
    }
   ],
   "source": [
    "months_days = {1:31, 2:28, 3:31, 4:30, 5:31, 6:30, 7:31, 8:31, 9:30, 10:31, 11:30, 12:31} # 同樣使用字典\n",
    "\n",
    "month = int(input())\n",
    "days = months_days[month]\n",
    "\n",
    "names = set()                                                                             # 比較不同的是遊戲名稱使用 set，因為可以確定不需要有重複的值，效率也較好。\n",
    "\n",
    "hour = 0                                                                                  #\n",
    "minute = 0                                                                                # 這邊先宣告，因為我要把他們結合在一個迴圈\n",
    "second = 0                                                                                #\n",
    "\n",
    "for i in range(days):                                                                     #\n",
    "    game_time = input().split(\",\")                                                        # 一樣分割名稱和時間，這邊用 set 的方法 add()，如果是已經出現過的名稱，\n",
    "    names.add(game_time[0])                                                               # 用 set 就可以避免掉出現重複的情況。\n",
    "                                                                                          # 這邊我在每個迴圈中都直接切好 time 然後加到對應的變數裡面，\n",
    "    time = game_time[1].split(\":\")                                                        # 這樣就不用跑兩次迴圈了。\n",
    "                                                                                          #\n",
    "    hour += int(time[0])                                                                  #\n",
    "    minute += int(time[1])                                                                #\n",
    "    second += int(time[2])                                                                #  \n",
    "\n",
    "hour_final = (minute + second // 60) // 60 + hour\n",
    "minute_final = (minute + second // 60) % 60\n",
    "second_final = second % 60\n",
    "\n",
    "print(len(set(names)))\n",
    "print(f\"{hour_final:02d}:{minute_final:02d}:{second_final:02d}\")"
   ]
  },
  {
   "attachments": {},
   "cell_type": "markdown",
   "metadata": {},
   "source": [
    "# Week 4"
   ]
  },
  {
   "cell_type": "markdown",
   "metadata": {},
   "source": [
    "## 排數字"
   ]
  },
  {
   "cell_type": "markdown",
   "metadata": {},
   "source": [
    "### 題目解答思路\n",
    "\n",
    "這邊的話專注在題目的敘述就好，他sample給的挺差的，不要被誤導了。\n",
    "<hr>\n",
    "在Input中說明了輸入會有<font color=\"red\">2行</font>，其中第1行只會是 <font color=\"red\">0 或者 1</font>，0 代表由小排到大，1 代表由大排到小。\n",
    "\n",
    "而第二行輸入會有一連串以空格分隔的元素，這時候請記得腦海裡第一個想法就是使用<font color=\"red\">split()</font>。\n",
    "\n",
    "請注意他這邊寫的，第二行輸入的元素是<font color=\"red\">待排序</font>的元素，所以不要被sample給的好像都是由小到大或由大到小排好的誤導了。\n",
    "<hr>\n",
    "這邊有個小特別的地方是輸出最後的hint有寫到，最後一個元素後不能有空格，這代表我們要另外處理最後一個元素的情況。"
   ]
  },
  {
   "cell_type": "markdown",
   "metadata": {},
   "source": [
    "### Method 1 -> this is yours"
   ]
  },
  {
   "cell_type": "code",
   "execution_count": null,
   "metadata": {},
   "outputs": [],
   "source": [
    "# 看不太懂題目是0由小排到大 1由大排到小 但輸出結果又不符合\n",
    "\n",
    "not_sorted=input()                          # 這邊代表的不是有沒有排序好，而是指該怎麼排序，所以我建議變數叫做 order                               \n",
    "num=[int(i) for i in input().split()]       #\n",
    "sort_num=sorted(num)                        # 可能對題目的誤解，這裡你沒有處理到排序方式的部分，而我們可以直接使用 in-place 的 sort()，不需要用 sorted() 建立新串列。\n",
    "for i in sort_num:                          # 像這種情況我不建議使用 range-based for loop，因為我們會需要用到 index，\n",
    "    if sort_num.index(i) != len(sort_num):  # 這樣妳就不用再使用 index() 去確認每一個元素的 index，讓效率變差。\n",
    "        print(i,end=' ')                    #\n",
    "    else:                                   #\n",
    "        print(i,end='')                     # 至於這個就不用加 end=\"\"，因為這個程式只會跑一次，直接 print(i) 即可。"
   ]
  },
  {
   "cell_type": "markdown",
   "metadata": {},
   "source": [
    "### Method 2 -> basic way (I corrected yours)"
   ]
  },
  {
   "cell_type": "code",
   "execution_count": null,
   "metadata": {},
   "outputs": [
    {
     "name": "stdout",
     "output_type": "stream",
     "text": [
      "92 87 9 6 5 0\n"
     ]
    }
   ],
   "source": [
    "order = int(input())                            # 這邊我叫做 order\n",
    "nums = [int(i) for i in input().split()]        # 使用你的方法轉型\n",
    "\n",
    "# nums = list(map(int, input().split()))        # 如果我寫應該會用 map 來做接收並轉型，效率較好，其他的部分就和下面一樣。\n",
    "\n",
    "if order:                                       #  \n",
    "    nums.sort(reverse=True)                     # 這邊比較特別的是，if order 的意思和 if order == 1 一樣，order 會被當作布林值 (boolean) 使用，\n",
    "else:                                           # 所以假如 order = 1 的話，就要由大排到小，所以將 reverse 關鍵字設為 True 就能實現從大排到小\n",
    "    nums.sort()                                 # bool(1) = True, bool(0) = False, int(True) = 1, int(False) = 0\n",
    "\n",
    "for i in range(len(nums)):                      #\n",
    "    if i == len(nums) - 1:                      # 這邊就使用 index，針對最後一個元素讓他後面不要接上空格，\n",
    "        print(nums[i])                          # 其他元素則用空格相連\n",
    "    else:                                       #\n",
    "        print(nums[i], end=\" \")                 #"
   ]
  }
 ],
 "metadata": {
  "kernelspec": {
   "display_name": "Python 3",
   "language": "python",
   "name": "python3"
  },
  "language_info": {
   "name": "python",
   "version": "3.10.9"
  },
  "orig_nbformat": 4,
  "vscode": {
   "interpreter": {
    "hash": "a14ca5d9f1cf6885da42dcd6a4819af4f4cf462c2c9da5f97b2d7b2fd7ff06f0"
   }
  }
 },
 "nbformat": 4,
 "nbformat_minor": 2
}
